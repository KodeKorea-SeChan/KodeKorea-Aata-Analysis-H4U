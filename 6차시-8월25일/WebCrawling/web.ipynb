{
 "cells": [
  {
   "cell_type": "markdown",
   "metadata": {},
   "source": [
    "# 웹크롤링 기초 실습"
   ]
  },
  {
   "cell_type": "markdown",
   "metadata": {},
   "source": [
    "- 예시 웹페이지 example.html에서 크롤링 해보자1"
   ]
  },
  {
   "cell_type": "code",
   "execution_count": 1,
   "metadata": {},
   "outputs": [],
   "source": [
    "from bs4 import BeautifulSoup\n",
    "\n",
    "html = ''\n",
    "fp = open('example.html', 'r', encoding='utf-8')\n",
    "for line in fp:\n",
    "    html += line\n",
    "fp.close\n",
    "\n",
    "soup = BeautifulSoup(html, \"html.parser\")"
   ]
  },
  {
   "cell_type": "code",
   "execution_count": 2,
   "metadata": {},
   "outputs": [
    {
     "name": "stdout",
     "output_type": "stream",
     "text": [
      "['c']\n",
      "special\n",
      "{'class': ['c'], 'id': 'special'}\n",
      "[<span>\n",
      "<a href=\"http://www.naver.com\">야호! 네이버다!!!</a>\n",
      "</span>]\n",
      "<span>\n",
      "<a href=\"http://www.naver.com\">야호! 네이버다!!!</a>\n",
      "</span>\n"
     ]
    }
   ],
   "source": [
    "text = soup.p #이것은 text = soup.find('p')와 같다.\n",
    "print(text['class']) #이 태그의 class 확인\n",
    "print(text['id']) #이 태그의 id 확인\n",
    "print(text.attrs) #이 태그의 속성과 값 확인 (딕셔너리 형태)\n",
    "\n",
    "text = soup.select('body span') #이것은 text = soup.find_all('span')과 같다.\n",
    "print(text)\n",
    "text = soup.select('body span')[0] #이것은 text = soup.find_all('span')[0]과 같다.\n",
    "print(text)"
   ]
  },
  {
   "cell_type": "code",
   "execution_count": 4,
   "metadata": {},
   "outputs": [
    {
     "name": "stdout",
     "output_type": "stream",
     "text": [
      "<p align=\"center\">\n",
      "            이 영역은 클래스, id가 없는 평범한 영역입니다.\n",
      "            <a href=\"http://www.google.co.kr\">구글이다!!!</a>\n",
      "</p>\n",
      "\n",
      "            이 영역은 클래스, id가 없는 평범한 영역입니다.\n",
      "            구글이다!!!\n",
      "\n",
      "<p class=\"c\" id=\"special\">\n",
      "            id는 class보다 더 강력합니다.<br/>\n",
      "            그렇기 때문에, class에서 지정한 문자 컬러가 orange라도<br/>\n",
      "            여기서는 indigo 컬러의 문자를 출력하게 되죠.\n",
      "        </p>\n",
      "[<p align=\"center\">\n",
      "            이 영역은 클래스, id가 없는 평범한 영역입니다.\n",
      "            <a href=\"http://www.google.co.kr\">구글이다!!!</a>\n",
      "</p>]\n",
      "[ ]:             이 영역은 클래스, id가 없는 평범한 영역입니다.\n",
      "            구글이다!!!\n"
     ]
    }
   ],
   "source": [
    "text = soup.find('p', {'align':'center'}) #가장 먼저 검색태는 태그 1개 반환\n",
    "print(text)\n",
    "print(text.get_text())\n",
    "text = soup.p\n",
    "print(text)\n",
    "\n",
    "text = []\n",
    "text = soup.find_all('p', attrs={'align':'center'}) \n",
    "#이 태그에 해당되는 태그 리스트들 반환\n",
    "#기본적으로, 이 리스트의 원소는 '태그'들이다.\n",
    "print(text)\n",
    "# print(text.get_text) 태그 리스트들은 get_text할 수 없다.\n",
    "for txt in text:\n",
    "    print(\"[ ]: \"+txt.get_text().strip('\\n'))"
   ]
  },
  {
   "cell_type": "code",
   "execution_count": 5,
   "metadata": {},
   "outputs": [
    {
     "name": "stdout",
     "output_type": "stream",
     "text": [
      "<p class=\"c\" id=\"special\">\n",
      "            id는 class보다 더 강력합니다.<br/>\n",
      "            그렇기 때문에, class에서 지정한 문자 컬러가 orange라도<br/>\n",
      "            여기서는 indigo 컬러의 문자를 출력하게 되죠.\n",
      "        </p>\n",
      "\n",
      "            id는 class보다 더 강력합니다.\n",
      "            그렇기 때문에, class에서 지정한 문자 컬러가 orange라도\n",
      "            여기서는 indigo 컬러의 문자를 출력하게 되죠.\n",
      "        \n",
      "[<p class=\"c\" id=\"special\">\n",
      "            id는 class보다 더 강력합니다.<br/>\n",
      "            그렇기 때문에, class에서 지정한 문자 컬러가 orange라도<br/>\n",
      "            여기서는 indigo 컬러의 문자를 출력하게 되죠.\n",
      "        </p>]\n",
      "[ ]:             id는 class보다 더 강력합니다.\n",
      "            그렇기 때문에, class에서 지정한 문자 컬러가 orange라도\n",
      "            여기서는 indigo 컬러의 문자를 출력하게 되죠.\n",
      "        \n"
     ]
    }
   ],
   "source": [
    "text = soup.find('p', class_='c') #가장 먼저 검색태는 태그 1개 반환\n",
    "print(text)\n",
    "print(text.get_text())\n",
    "\n",
    "text = []\n",
    "text = soup.find_all('p', 'c') \n",
    "#text = soup.find_all('p', {'class': 'c'})\n",
    "#이 태그에 해당되는 태그 리스트들 반환\n",
    "#기본적으로, 이 리스트의 원소는 '태그'들이다.\n",
    "print(text)\n",
    "# print(text.get_text) 태그 리스트들은 get_text할 수 없다.\n",
    "for txt in text:\n",
    "    print(\"[ ]: \"+txt.get_text().strip('\\n'))"
   ]
  },
  {
   "cell_type": "code",
   "execution_count": 7,
   "metadata": {},
   "outputs": [
    {
     "name": "stdout",
     "output_type": "stream",
     "text": [
      "<p class=\"c\" id=\"special\">\n",
      "            id는 class보다 더 강력합니다.<br/>\n",
      "            그렇기 때문에, class에서 지정한 문자 컬러가 orange라도<br/>\n",
      "            여기서는 indigo 컬러의 문자를 출력하게 되죠.\n",
      "        </p>\n",
      "\n",
      "            id는 class보다 더 강력합니다.\n",
      "            그렇기 때문에, class에서 지정한 문자 컬러가 orange라도\n",
      "            여기서는 indigo 컬러의 문자를 출력하게 되죠.\n",
      "        \n",
      "[<p class=\"c\" id=\"special\">\n",
      "            id는 class보다 더 강력합니다.<br/>\n",
      "            그렇기 때문에, class에서 지정한 문자 컬러가 orange라도<br/>\n",
      "            여기서는 indigo 컬러의 문자를 출력하게 되죠.\n",
      "        </p>, <p align=\"center\">\n",
      "            이 영역은 클래스, id가 없는 평범한 영역입니다.\n",
      "            <a href=\"http://www.google.co.kr\">구글이다!!!</a>\n",
      "</p>]\n",
      "[ ]:             id는 class보다 더 강력합니다.\n",
      "            그렇기 때문에, class에서 지정한 문자 컬러가 orange라도\n",
      "            여기서는 indigo 컬러의 문자를 출력하게 되죠.\n",
      "        \n",
      "[ ]:             이 영역은 클래스, id가 없는 평범한 영역입니다.\n",
      "            구글이다!!!\n"
     ]
    }
   ],
   "source": [
    "text = soup.find('p') #가장 먼저 검색태는 태그 1개 반환\n",
    "print(text)\n",
    "print(text.get_text())\n",
    "\n",
    "text = []\n",
    "text = soup.find_all('p') \n",
    "#이 태그에 해당되는 태그 리스트들 반환\n",
    "#기본적으로, 이 리스트의 원소는 '태그'들이다.\n",
    "print(text)\n",
    "# print(text.get_text) 태그 리스트들은 get_text할 수 없다.\n",
    "for txt in text:\n",
    "    print(\"[ ]: \"+txt.get_text().strip('\\n'))"
   ]
  },
  {
   "cell_type": "code",
   "execution_count": 8,
   "metadata": {},
   "outputs": [
    {
     "name": "stdout",
     "output_type": "stream",
     "text": [
      "[<p class=\"c\" id=\"special\">\n",
      "            id는 class보다 더 강력합니다.<br/>\n",
      "            그렇기 때문에, class에서 지정한 문자 컬러가 orange라도<br/>\n",
      "            여기서는 indigo 컬러의 문자를 출력하게 되죠.\n",
      "        </p>, <p align=\"center\">\n",
      "            이 영역은 클래스, id가 없는 평범한 영역입니다.\n",
      "            <a href=\"http://www.google.co.kr\">구글이다!!!</a>\n",
      "</p>]\n",
      "[ ]:             id는 class보다 더 강력합니다.\n",
      "            그렇기 때문에, class에서 지정한 문자 컬러가 orange라도\n",
      "            여기서는 indigo 컬러의 문자를 출력하게 되죠.\n",
      "        \n",
      "[ ]:             이 영역은 클래스, id가 없는 평범한 영역입니다.\n",
      "            구글이다!!!\n",
      "\n",
      "            id는 class보다 더 강력합니다.\n",
      "            그렇기 때문에, class에서 지정한 문자 컬러가 orange라도\n",
      "            여기서는 indigo 컬러의 문자를 출력하게 되죠.\n",
      "        \n"
     ]
    }
   ],
   "source": [
    "text = soup.find_all('p') \n",
    "\n",
    "print(text)\n",
    "# print(text.get_text) 태그 리스트들은 get_text할 수 없다.\n",
    "for txt in text:\n",
    "    print(\"[ ]: \"+txt.get_text().strip('\\n'))\n",
    "print(text[0].get_text())"
   ]
  },
  {
   "cell_type": "markdown",
   "metadata": {},
   "source": [
    "---"
   ]
  },
  {
   "cell_type": "markdown",
   "metadata": {},
   "source": [
    "# 멜론 차트 크롤링 실습"
   ]
  },
  {
   "cell_type": "markdown",
   "metadata": {},
   "source": [
    "![screenshot](./ex1.PNG)"
   ]
  },
  {
   "cell_type": "markdown",
   "metadata": {},
   "source": [
    "![screenshot](./ex2.PNG)"
   ]
  },
  {
   "cell_type": "markdown",
   "metadata": {},
   "source": [
    "![screenshot](./ex3.PNG)"
   ]
  },
  {
   "cell_type": "markdown",
   "metadata": {},
   "source": [
    "![screenshot](./ex4.PNG)"
   ]
  },
  {
   "cell_type": "markdown",
   "metadata": {},
   "source": [
    "- Soup = BeautifulSoup(html, ‘html.parser’)\n",
    "- What next?\n"
   ]
  },
  {
   "cell_type": "markdown",
   "metadata": {},
   "source": [
    "- 아까 봐둔 타이틀과 아티스트 텍스트를 담은 태그를 찾는다.\n",
    "- Div + class 조합이라면?\n",
    " - 태그 + 클래스 조합으로 찾는 게 적격!\n",
    " - 만능키인 태그 + 태그 속성으로 찾아도 좋다."
   ]
  },
  {
   "cell_type": "code",
   "execution_count": 21,
   "metadata": {},
   "outputs": [],
   "source": [
    "from bs4 import BeautifulSoup\n",
    "import requests\n",
    "\n",
    "header = {'User-Agent':'Mozilla/5.0 (Windows NT 6.3; Win64; x64) AppleWebKit/537.36 (like Gecko) Chrome/63.0.3239.132 Safari/537.36'} #headers= 부터 여기까지 한 줄임\n",
    "url = 'https://www.melon.com/chart/'\n",
    "html = requests.get(url, headers = header).text\n",
    "\n",
    "soup = BeautifulSoup(html, 'html.parser')"
   ]
  },
  {
   "cell_type": "markdown",
   "metadata": {},
   "source": [
    "### 타이틀 : <div class=“ellipsis rank01”>\n",
    "- Titles = soup.find_all(‘div’, {‘class’: ‘ellipsis rank01’})\n",
    " - (=titles = soup.find_all('div', 'ellipsis rank01’))\n"
   ]
  },
  {
   "cell_type": "markdown",
   "metadata": {},
   "source": [
    "### 아티스트 : <div class=“ellipsis rank02”>\n",
    "- Artists = soup.find_all(‘div’, ‘{‘class’: ‘ellipsis rank02’})\n",
    " - (=artists = soup.find_all(‘div’, ‘ellipsis rank02’))\n"
   ]
  },
  {
   "cell_type": "code",
   "execution_count": 25,
   "metadata": {},
   "outputs": [
    {
     "name": "stdout",
     "output_type": "stream",
     "text": [
      "100\n",
      "정국\n",
      "NewJeans\n",
      "NewJeans\n",
      "박재정\n",
      "(여자)아이들\n",
      "IVE (아이브)\n",
      "전소미\n",
      "우디 (Woody)\n",
      "Lauv\n",
      "aespa\n",
      "NewJeans\n",
      "LE SSERAFIM (르세라핌)\n",
      "NewJeans\n",
      "임영웅\n",
      "임영웅\n",
      "IVE (아이브)\n",
      "정국\n",
      "NewJeans\n",
      "LE SSERAFIM (르세라핌)\n",
      "임영웅\n",
      "Paul Blanco\n",
      "임영웅\n",
      "AKMU (악뮤)\n",
      "임영웅\n",
      "임영웅\n",
      "NewJeans\n",
      "NewJeans\n",
      "임영웅\n",
      "임영웅\n",
      "NewJeans\n",
      "세븐틴 (SEVENTEEN)\n",
      "임영웅\n",
      "임영웅\n",
      "방탄소년단\n",
      "STAYC(스테이씨)\n",
      "IVE (아이브)\n",
      "윤하 (YOUNHA)\n",
      "ITZY (있지)\n",
      "IVE (아이브)\n",
      "임영웅\n",
      "임영웅\n",
      "Charlie Puth\n",
      "지수 (JISOO)\n",
      "임영웅\n",
      "임영웅\n",
      "방탄소년단\n",
      "부석순 (SEVENTEEN)\n",
      "V\n",
      "STAYC(스테이씨)\n",
      "Charlie Puth\n",
      "임영웅\n",
      "DK(디셈버)\n",
      "성시경\n",
      "임한별\n",
      "탑현\n",
      "이세계아이돌\n",
      "방탄소년단\n",
      "AKMU (악뮤)\n",
      "멜로망스\n",
      "오마이걸 (OH MY GIRL)\n",
      "방탄소년단\n",
      "NCT DREAM\n",
      "케이시 (Kassy)\n",
      "NCT DREAM\n",
      "LE SSERAFIM (르세라핌)\n",
      "H1-KEY (하이키)\n",
      "지민\n",
      "정국, 방탄소년단\n",
      "FIFTY FIFTY\n",
      "이무진\n",
      "Agust D\n",
      "허각\n",
      "NewJeans\n",
      "경서\n",
      "The Kid LAROI, Justin Bieber\n",
      "제이세라\n",
      "(여자)아이들\n",
      "방탄소년단\n",
      "우효\n",
      "지아\n",
      "김민석 (멜로망스)\n",
      "IVE (아이브)\n",
      "#안녕\n",
      "경서예지, 전건호\n",
      "(여자)아이들\n",
      "ZEROBASEONE (제로베이스원)\n",
      "로이킴\n",
      "Charlie Puth\n",
      "j-hope, J. Cole\n",
      "V\n",
      "김호중\n",
      "NCT DREAM\n",
      "Charlie Puth\n",
      "임재현\n",
      "NCT DREAM\n",
      "던 (DAWN)\n",
      "김연지, DK(디셈버)\n",
      "테이\n",
      "(여자)아이들\n",
      "이세계아이돌\n",
      "100\n"
     ]
    }
   ],
   "source": [
    "titles = soup.find_all('div', {'class':'ellipsis rank01'})\n",
    "artists = soup.find_all('span', 'checkEllipsis')\n",
    "print(len(artists))\n",
    "for a in artists:\n",
    "    print(a.get_text())\n",
    "print(len(artists))\n",
    "\n",
    "title = []\n"
   ]
  },
  {
   "cell_type": "code",
   "execution_count": 23,
   "metadata": {},
   "outputs": [
    {
     "ename": "TypeError",
     "evalue": "can only concatenate str (not \"Tag\") to str",
     "output_type": "error",
     "traceback": [
      "\u001b[1;31m---------------------------------------------------------------------------\u001b[0m",
      "\u001b[1;31mTypeError\u001b[0m                                 Traceback (most recent call last)",
      "\u001b[1;32m<ipython-input-23-52d696b39196>\u001b[0m in \u001b[0;36m<module>\u001b[1;34m\u001b[0m\n\u001b[0;32m      8\u001b[0m \u001b[1;33m\u001b[0m\u001b[0m\n\u001b[0;32m      9\u001b[0m \u001b[1;32mfor\u001b[0m \u001b[0mi\u001b[0m \u001b[1;32min\u001b[0m \u001b[0mrange\u001b[0m\u001b[1;33m(\u001b[0m\u001b[1;36m100\u001b[0m\u001b[1;33m)\u001b[0m\u001b[1;33m:\u001b[0m\u001b[1;33m\u001b[0m\u001b[1;33m\u001b[0m\u001b[0m\n\u001b[1;32m---> 10\u001b[1;33m     \u001b[0mprint\u001b[0m\u001b[1;33m(\u001b[0m\u001b[0mstr\u001b[0m\u001b[1;33m(\u001b[0m\u001b[0mi\u001b[0m\u001b[1;33m+\u001b[0m\u001b[1;36m1\u001b[0m\u001b[1;33m)\u001b[0m\u001b[1;33m+\u001b[0m\u001b[1;34m\"위: \"\u001b[0m\u001b[1;33m+\u001b[0m\u001b[0mtitle\u001b[0m\u001b[1;33m[\u001b[0m\u001b[0mi\u001b[0m\u001b[1;33m]\u001b[0m\u001b[1;33m+\u001b[0m\u001b[1;34m\"- \"\u001b[0m\u001b[1;33m+\u001b[0m\u001b[0martist\u001b[0m\u001b[1;33m[\u001b[0m\u001b[0mi\u001b[0m\u001b[1;33m]\u001b[0m\u001b[1;33m)\u001b[0m\u001b[1;33m\u001b[0m\u001b[1;33m\u001b[0m\u001b[0m\n\u001b[0m",
      "\u001b[1;31mTypeError\u001b[0m: can only concatenate str (not \"Tag\") to str"
     ]
    }
   ],
   "source": [
    "title = []\n",
    "for t in titles:\n",
    "    title.append(t)\n",
    "\n",
    "artist = []\n",
    "for a in artists:\n",
    "    artist.append(a)"
   ]
  },
  {
   "cell_type": "markdown",
   "metadata": {},
   "source": [
    "- Titles와 artists는 find_all로 찾았기 때문에, 이 변수의 타입은 bs4.element.ResultSet이다.\n",
    "- 이 ResultSet의 원소들은 까보면 알겠지만, div 태그들 모임이다.\n",
    "- As you know…\n",
    " - ResultSet은 바로 텍스트 출력이 불가능하다. (리스트이기 때문에)\n",
    " - 그럼 어떻게 할까? -> for문 사용\n",
    " - 일단, 빈 리스트 두 개를 만든다. (하나는 title, 하나는 artist)\n",
    " \n",
    " - For문을 작성하기 전, 코드를 다시 한 번 살펴보자. \n",
    " - div 안에는 span 태그가 있고, 이 안에 실질적인 a 태그의 text가 우리가 찾는 타이틀과 아티스트 이름이 있다.\n",
    " - For문 안에서 find를 또 해준 다음, get_text()를 해줘야 한다.\n"
   ]
  },
  {
   "cell_type": "code",
   "execution_count": 24,
   "metadata": {},
   "outputs": [],
   "source": [
    "title = []\n",
    "for t in titles:\n",
    "    title.append(t.find('a').get_text())\n",
    "artist = []\n",
    "for a in artists:\n",
    "    artist.append(a.find('a').get_text())"
   ]
  },
  {
   "cell_type": "markdown",
   "metadata": {},
   "source": [
    "# 멜론차트 크롤링 실습 결과"
   ]
  },
  {
   "cell_type": "code",
   "execution_count": 20,
   "metadata": {
    "scrolled": true
   },
   "outputs": [
    {
     "name": "stdout",
     "output_type": "stream",
     "text": [
      "1위: Seven (feat. Latto) - Clean Ver.- 정국\n",
      "2위: Super Shy- NewJeans\n",
      "3위: ETA- NewJeans\n",
      "4위: 헤어지자 말해요- 박재정\n",
      "5위: 퀸카 (Queencard)- (여자)아이들\n",
      "6위: I AM- IVE (아이브)\n",
      "7위: Fast Forward- 전소미\n",
      "8위: 사막에서 꽃을 피우듯- 우디 (Woody)\n",
      "9위: Steal The Show (From “엘리멘탈”)- Lauv\n",
      "10위: Spicy- aespa\n",
      "11위: New Jeans- NewJeans\n",
      "12위: 이브, 프시케 그리고 푸른 수염의 아내- LE SSERAFIM (르세라핌)\n",
      "13위: Hype boy- NewJeans\n",
      "14위: 모래 알갱이- 임영웅\n",
      "15위: 사랑은 늘 도망가- 임영웅\n",
      "16위: Kitsch- IVE (아이브)\n",
      "17위: Still With You- 정국\n",
      "18위: Ditto- NewJeans\n",
      "19위: UNFORGIVEN (feat. Nile Rodgers)- LE SSERAFIM (르세라핌)\n",
      "20위: 우리들의 블루스- 임영웅\n",
      "21위: Summer (Feat. BE’O (비오))- Paul Blanco\n",
      "22위: 다시 만날 수 있을까- 임영웅\n",
      "23위: Love Lee- AKMU (악뮤)\n",
      "24위: 무지개- 임영웅\n",
      "25위: 이제 나만 믿어요- 임영웅\n",
      "26위: Attention- NewJeans\n",
      "27위: Cool With You- NewJeans\n",
      "28위: London Boy- 임영웅\n",
      "29위: 아버지- 임영웅\n",
      "30위: OMG- NewJeans\n",
      "31위: 손오공- 세븐틴 (SEVENTEEN)\n",
      "32위: Polaroid- 임영웅\n",
      "33위: 인생찬가- 임영웅\n",
      "34위: Dynamite- 방탄소년단\n",
      "35위: Bubble- STAYC(스테이씨)\n",
      "36위: After LIKE- IVE (아이브)\n",
      "37위: 사건의 지평선- 윤하 (YOUNHA)\n",
      "38위: CAKE- ITZY (있지)\n",
      "39위: LOVE DIVE- IVE (아이브)\n",
      "40위: A bientot- 임영웅\n",
      "41위: 손이 참 곱던 그대- 임영웅\n",
      "42위: I Don't Think That I Like Her- Charlie Puth\n",
      "43위: 꽃- 지수 (JISOO)\n",
      "44위: 사랑해 진짜- 임영웅\n",
      "45위: 연애편지- 임영웅\n",
      "46위: Take Two- 방탄소년단\n",
      "47위: 파이팅 해야지 (Feat. 이영지)- 부석순 (SEVENTEEN)\n",
      "48위: Love Me Again- V\n",
      "49위: Teddy Bear- STAYC(스테이씨)\n",
      "50위: Dangerously- Charlie Puth\n",
      "51위: 보금자리- 임영웅\n",
      "52위: 심(心)- DK(디셈버)\n",
      "53위: 너의 모든 순간- 성시경\n",
      "54위: 사랑하지 않아서 그랬어- 임한별\n",
      "55위: 나에게 그대만이- 탑현\n",
      "56위: KIDDING- 이세계아이돌\n",
      "57위: 봄날- 방탄소년단\n",
      "58위: 후라이의 꿈- AKMU (악뮤)\n",
      "59위: 사랑인가 봐- 멜로망스\n",
      "60위: 여름이 들려 (Summer Comes)- 오마이걸 (OH MY GIRL)\n",
      "61위: Butter- 방탄소년단\n",
      "62위: ISTJ- NCT DREAM\n",
      "63위: 사실말야내가말야그게그러니까말이야- 케이시 (Kassy)\n",
      "64위: Candy- NCT DREAM\n",
      "65위: ANTIFRAGILE- LE SSERAFIM (르세라핌)\n",
      "66위: 건물 사이에 피어난 장미 (Rose Blossom)- H1-KEY (하이키)\n",
      "67위: Like Crazy- 지민\n",
      "68위: Dreamers [Music from the FIFA World Cup Qatar 2022 Official Soundtrack] (Feat. FIFA Sound)- 정국\n",
      "69위: Cupid- FIFTY FIFTY\n",
      "70위: 잠깐 시간 될까- 이무진\n",
      "71위: 사람 Pt.2 (feat. 아이유)- Agust D\n",
      "72위: 물론- 허각\n",
      "73위: ASAP- NewJeans\n",
      "74위: 첫 키스에 내 심장은 120BPM- 경서\n",
      "75위: STAY- The Kid LAROI\n",
      "76위: 사랑의 바보- 제이세라\n",
      "77위: Allergy- (여자)아이들\n",
      "78위: Permission to Dance- 방탄소년단\n",
      "79위: 민들레 (single ver.)- 우효\n",
      "80위: 사랑..그게 뭔데- 지아\n",
      "81위: 취중고백- 김민석 (멜로망스)\n",
      "82위: I WANT- IVE (아이브)\n",
      "83위: 해요 (2022)- #안녕\n",
      "84위: 다정히 내 이름을 부르면- 경서예지\n",
      "85위: TOMBOY- (여자)아이들\n",
      "86위: In Bloom- ZEROBASEONE (제로베이스원)\n",
      "87위: 잘 지내자, 우리 (여름날 우리 X 로이킴)- 로이킴\n",
      "88위: That's Hilarious- Charlie Puth\n",
      "89위: on the street (with J. Cole)- j-hope\n",
      "90위: Rainy Days- V\n",
      "91위: 그중에 그대를 만나- 김호중\n",
      "92위: Broken Melodies- NCT DREAM\n",
      "93위: That’s Not How This Works (feat. Dan + Shay)- Charlie Puth\n",
      "94위: Heaven(2023)- 임재현\n",
      "95위: Yogurt Shake- NCT DREAM\n",
      "96위: 빛이 나는 너에게- 던 (DAWN)\n",
      "97위: 미친 사랑의 노래- 김연지\n",
      "98위: Monologue- 테이\n",
      "99위: Nxde- (여자)아이들\n",
      "100위: LOCKDOWN- 이세계아이돌\n"
     ]
    }
   ],
   "source": [
    "for t in titles:\n",
    "    title.append(t.find('a').get_text())\n",
    "artist = []\n",
    "for a in artists:\n",
    "    artist.append(a.find('a').get_text())\n",
    "\n",
    "\n",
    "for i in range(100):\n",
    "    print(str(i+1)+\"위: \"+title[i]+\"- \"+artist[i])"
   ]
  },
  {
   "cell_type": "markdown",
   "metadata": {},
   "source": [
    "# 클라이언트가 멜론 차트 노래를 듣고 너무 좋아서 앨범 이름까지 다 긁어오라고 한다. 어떻게 해야 할까?\n",
    "#  각자 실습!\n"
   ]
  },
  {
   "cell_type": "markdown",
   "metadata": {},
   "source": [
    "---"
   ]
  }
 ],
 "metadata": {
  "kernelspec": {
   "display_name": "Python 3",
   "language": "python",
   "name": "python3"
  },
  "language_info": {
   "codemirror_mode": {
    "name": "ipython",
    "version": 3
   },
   "file_extension": ".py",
   "mimetype": "text/x-python",
   "name": "python",
   "nbconvert_exporter": "python",
   "pygments_lexer": "ipython3",
   "version": "3.7.6"
  }
 },
 "nbformat": 4,
 "nbformat_minor": 4
}
